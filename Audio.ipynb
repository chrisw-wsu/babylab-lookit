{
 "metadata": {
  "language_info": {
   "codemirror_mode": {
    "name": "ipython",
    "version": 3
   },
   "file_extension": ".py",
   "mimetype": "text/x-python",
   "name": "python",
   "nbconvert_exporter": "python",
   "pygments_lexer": "ipython3",
   "version": "3.7.3-final"
  },
  "orig_nbformat": 2,
  "kernelspec": {
   "name": "python_defaultSpec_1600153636481",
   "display_name": "Python 3.7.3 64-bit"
  }
 },
 "nbformat": 4,
 "nbformat_minor": 2,
 "cells": [
  {
   "source": [
    "from AudioProcessing.addSilence import addSilence\n",
    "from datetime import datetime"
   ],
   "cell_type": "code",
   "metadata": {},
   "execution_count": 17,
   "outputs": []
  },
  {
   "source": [
    "Import\n",
    "import data\n",
    "\n",
    "\n",
    "\n"
   ],
   "cell_type": "markdown",
   "metadata": {}
  },
  {
   "cell_type": "code",
   "execution_count": 19,
   "metadata": {},
   "outputs": [],
   "source": [
    "Data_In_Path = \"./wav_ori/PRO/\"\n",
    "Data_Out_Path = \"./wav_ori/withSilence/\""
   ]
  },
  {
   "cell_type": "code",
   "execution_count": 29,
   "metadata": {},
   "outputs": [],
   "source": [
    "ToProcess = 'PROCVCTST'\n",
    "\n",
    "PATH_out = Data_Out_Path + ToProcess\n",
    "\n",
    "if not os.path.exists(PATH_out):\n",
    "    os.mkdir(PATH_out)\n",
    "else:\n",
    "    new_PATH_out = PATH_out + datetime.now().strftime(\"%H:%M:%S\")\n",
    "    os.mkdir(new_PATH_out)\n",
    "    PATH_out= new_PATH_out   \n",
    "\n",
    "addSilence(Data_In_Path, PATH_out,\"ToProcess\")"
   ]
  },
  {
   "cell_type": "code",
   "execution_count": null,
   "metadata": {},
   "outputs": [],
   "source": []
  }
 ]
}